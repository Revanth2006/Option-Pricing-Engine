# Option Pricing Engine: Black-Scholes & Monte Carlo Simulation
# Author: Revanth Yadav Madala
# Goal: To build an interactive engine that prices European options using Black-Scholes and Monte Carlo methods
# ----------------------------------------------------------------------------------

import numpy as np
import scipy.stats as si
import matplotlib.pyplot as plt

# ------------------------
# SECTION 1: Black-Scholes Model
# ------------------------

def black_scholes_call(S, K, T, r, sigma):
    """
    Black-Scholes Formula for European Call Option
    S: Current Stock Price
    K: Strike Price
    T: Time to Maturity (in years)
    r: Risk-free Interest Rate
    sigma: Volatility of underlying
    Returns: Call Option Price
    """
    d1 = (np.log(S / K) + (r + 0.5 * sigma ** 2) * T) / (sigma * np.sqrt(T))
    d2 = d1 - sigma * np.sqrt(T)
    call_price = S * si.norm.cdf(d1) - K * np.exp(-r * T) * si.norm.cdf(d2)
    return call_price

# ------------------------
# SECTION 2: Greeks (Sensitivities)
# ------------------------

def greeks_call(S, K, T, r, sigma):
    """Calculate Delta, Gamma, Vega, Theta, Rho for a Call Option"""
    d1 = (np.log(S / K) + (r + 0.5 * sigma ** 2) * T) / (sigma * np.sqrt(T))
    d2 = d1 - sigma * np.sqrt(T)
    
    delta = si.norm.cdf(d1)
    gamma = si.norm.pdf(d1) / (S * sigma * np.sqrt(T))
    vega = S * si.norm.pdf(d1) * np.sqrt(T)
    theta = (-S * si.norm.pdf(d1) * sigma / (2 * np.sqrt(T)) 
             - r * K * np.exp(-r * T) * si.norm.cdf(d2))
    rho = K * T * np.exp(-r * T) * si.norm.cdf(d2)

    return delta, gamma, vega, theta, rho

# ------------------------
# SECTION 3: Monte Carlo Simulation
# ------------------------

def monte_carlo_call(S, K, T, r, sigma, simulations=100000):
    """
    Price European Call using Monte Carlo Simulation
    """
    Z = np.random.standard_normal(simulations)
    ST = S * np.exp((r - 0.5 * sigma ** 2) * T + sigma * np.sqrt(T) * Z)
    payoff = np.maximum(ST - K, 0)
    call_price = np.exp(-r * T) * np.mean(payoff)
    return call_price

# ------------------------
# SECTION 4: Main Engine – Comparison
# ------------------------

# Input Parameters
S = 100        # Spot Price
K = 105        # Strike Price
T = 1.0        # Maturity (1 year)
r = 0.05       # Risk-free Rate (5%)
sigma = 0.2    # Volatility (20%)

# Black-Scholes Pricing
bs_price = black_scholes_call(S, K, T, r, sigma)
print(f"Black-Scholes Call Price: {bs_price:.4f}")

# Greeks
delta, gamma, vega, theta, rho = greeks_call(S, K, T, r, sigma)
print("\nOption Greeks (Call):")
print(f"Delta: {delta:.4f}, Gamma: {gamma:.4f}, Vega: {vega:.4f}, Theta: {theta:.4f}, Rho: {rho:.4f}")

# Monte Carlo Pricing
mc_price = monte_carlo_call(S, K, T, r, sigma)
print(f"\nMonte Carlo Estimated Call Price: {mc_price:.4f}")

# ------------------------
# SECTION 5: Price Distribution Visualization
# ------------------------
Z = np.random.standard_normal(100000)
ST = S * np.exp((r - 0.5 * sigma ** 2) * T + sigma * np.sqrt(T) * Z)

plt.figure(figsize=(10,6))
plt.hist(ST, bins=100, color='skyblue', edgecolor='black')
plt.axvline(K, color='red', linestyle='--', label='Strike Price')
plt.title("Simulated Stock Price Distribution at Maturity")
plt.xlabel("Stock Price")
plt.ylabel("Frequency")
plt.legend()
plt.grid()
plt.show()
